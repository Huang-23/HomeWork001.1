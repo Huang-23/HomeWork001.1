{
 "cells": [
  {
   "cell_type": "markdown",
   "metadata": {},
   "source": [
    "## [2]"
   ]
  },
  {
   "cell_type": "code",
   "execution_count": 1,
   "metadata": {},
   "outputs": [],
   "source": [
    "import sympy\n",
    "x = sympy.symbols('x')"
   ]
  },
  {
   "cell_type": "code",
   "execution_count": 2,
   "metadata": {},
   "outputs": [
    {
     "data": {
      "text/latex": [
       "$\\displaystyle x^{4} + 4 x^{3} - 79 x^{2} - 226 x + 720$"
      ],
      "text/plain": [
       "x**4 + 4*x**3 - 79*x**2 - 226*x + 720"
      ]
     },
     "execution_count": 2,
     "metadata": {},
     "output_type": "execute_result"
    }
   ],
   "source": [
    "def f(x): \n",
    "    return x**4 + 4*x**3 - 79*x**2 -226*x + 720\n",
    "f(x)"
   ]
  },
  {
   "cell_type": "markdown",
   "metadata": {},
   "source": [
    "### (2.1)"
   ]
  },
  {
   "cell_type": "code",
   "execution_count": 3,
   "metadata": {},
   "outputs": [
    {
     "data": {
      "text/latex": [
       "$\\displaystyle 4 x^{3} + 12 x^{2} - 158 x - 226$"
      ],
      "text/plain": [
       "4*x**3 + 12*x**2 - 158*x - 226"
      ]
     },
     "execution_count": 3,
     "metadata": {},
     "output_type": "execute_result"
    }
   ],
   "source": [
    "# 一次微分\n",
    "def f1(x): \n",
    "    return f(x).diff(x)\n",
    "f1(x)"
   ]
  },
  {
   "cell_type": "code",
   "execution_count": 4,
   "metadata": {},
   "outputs": [
    {
     "data": {
      "text/latex": [
       "$\\displaystyle 12 x^{2} + 24 x - 158$"
      ],
      "text/plain": [
       "12*x**2 + 24*x - 158"
      ]
     },
     "execution_count": 4,
     "metadata": {},
     "output_type": "execute_result"
    }
   ],
   "source": [
    "# 二次微分\n",
    "def f2(x): \n",
    "    return f1(x).diff(x)\n",
    "f2(x)"
   ]
  },
  {
   "cell_type": "markdown",
   "metadata": {},
   "source": [
    "### (2.2)"
   ]
  },
  {
   "cell_type": "code",
   "execution_count": 5,
   "metadata": {},
   "outputs": [],
   "source": [
    "from scipy import optimize\n",
    "\n",
    "def f(x, sign=1):\n",
    "        return sign*(x**4 + 4*x**3 - 79*x**2 -226*x + 720)"
   ]
  },
  {
   "cell_type": "code",
   "execution_count": 6,
   "metadata": {},
   "outputs": [
    {
     "data": {
      "text/plain": [
       "5.688982984264878"
      ]
     },
     "execution_count": 6,
     "metadata": {},
     "output_type": "execute_result"
    }
   ],
   "source": [
    "Result1 = optimize. minimize_scalar(f)\n",
    "Result1.x"
   ]
  },
  {
   "cell_type": "code",
   "execution_count": 7,
   "metadata": {},
   "outputs": [
    {
     "data": {
      "text/plain": [
       "-1338.5602025692729"
      ]
     },
     "execution_count": 7,
     "metadata": {},
     "output_type": "execute_result"
    }
   ],
   "source": [
    "Result1.fun"
   ]
  },
  {
   "cell_type": "code",
   "execution_count": 8,
   "metadata": {},
   "outputs": [
    {
     "data": {
      "text/plain": [
       "-1338.5602025692729"
      ]
     },
     "execution_count": 8,
     "metadata": {},
     "output_type": "execute_result"
    }
   ],
   "source": [
    "f(Result1.x)"
   ]
  },
  {
   "cell_type": "markdown",
   "metadata": {},
   "source": [
    "### (2.3)"
   ]
  },
  {
   "cell_type": "code",
   "execution_count": 9,
   "metadata": {},
   "outputs": [
    {
     "data": {
      "image/png": "[encoded data removed]",
      "text/plain": [
       "<Figure size 432x288 with 1 Axes>"
      ]
     },
     "metadata": {},
     "output_type": "display_data"
    }
   ],
   "source": [
    "import seaborn as sb\n",
    "sb.set_style('whitegrid')\n",
    "\n",
    "p= sympy.plotting.plot(f(x),f1(x),f2(x),(x,-10,10), show=False)\n",
    "p[0].line_color='cyan'\n",
    "p[1].line_color='yellow'\n",
    "p[2].line_color='magenta'\n",
    "p.legend=True\n",
    "p.show()"
   ]
  },
  {
   "cell_type": "markdown",
   "metadata": {},
   "source": [
    "## [3]"
   ]
  },
  {
   "cell_type": "markdown",
   "metadata": {},
   "source": [
    "### (3.1)"
   ]
  },
  {
   "cell_type": "code",
   "execution_count": 10,
   "metadata": {},
   "outputs": [],
   "source": [
    "import sympy as sm"
   ]
  },
  {
   "cell_type": "code",
   "execution_count": 11,
   "metadata": {},
   "outputs": [
    {
     "data": {
      "text/latex": [
       "$\\displaystyle x^{3} y^{3} + x^{3} y^{2} - 122 x^{3} y + 120 x^{3} + x^{2} y^{3} + x^{2} y^{2} - 122 x^{2} y + 120 x^{2} - 122 x y^{3} - 122 x y^{2} + 14884 x y - 14640 x + 120 y^{3} + 120 y^{2} - 14640 y + 14400$"
      ],
      "text/plain": [
       "x**3*y**3 + x**3*y**2 - 122*x**3*y + 120*x**3 + x**2*y**3 + x**2*y**2 - 122*x**2*y + 120*x**2 - 122*x*y**3 - 122*x*y**2 + 14884*x*y - 14640*x + 120*y**3 + 120*y**2 - 14640*y + 14400"
      ]
     },
     "execution_count": 11,
     "metadata": {},
     "output_type": "execute_result"
    }
   ],
   "source": [
    "x,y = sm.symbols('x,y')\n",
    "\n",
    "z = (x-10)*(x-1)*(x+12)*(y-10)*(y-1)*(y+12)\n",
    "z.expand() "
   ]
  },
  {
   "cell_type": "code",
   "execution_count": 12,
   "metadata": {},
   "outputs": [
    {
     "data": {
      "text/latex": [
       "$\\displaystyle \\left(x - 10\\right) \\left(x - 1\\right) \\left(y - 10\\right) \\left(y - 1\\right) \\left(y + 12\\right) + \\left(x - 10\\right) \\left(x + 12\\right) \\left(y - 10\\right) \\left(y - 1\\right) \\left(y + 12\\right) + \\left(x - 1\\right) \\left(x + 12\\right) \\left(y - 10\\right) \\left(y - 1\\right) \\left(y + 12\\right)$"
      ],
      "text/plain": [
       "(x - 10)*(x - 1)*(y - 10)*(y - 1)*(y + 12) + (x - 10)*(x + 12)*(y - 10)*(y - 1)*(y + 12) + (x - 1)*(x + 12)*(y - 10)*(y - 1)*(y + 12)"
      ]
     },
     "execution_count": 12,
     "metadata": {},
     "output_type": "execute_result"
    }
   ],
   "source": [
    "dzx = z.diff(x)\n",
    "dzx"
   ]
  },
  {
   "cell_type": "code",
   "execution_count": 13,
   "metadata": {},
   "outputs": [
    {
     "data": {
      "text/latex": [
       "$\\displaystyle \\left(x - 10\\right) \\left(x - 1\\right) \\left(x + 12\\right) \\left(y - 10\\right) \\left(y - 1\\right) + \\left(x - 10\\right) \\left(x - 1\\right) \\left(x + 12\\right) \\left(y - 10\\right) \\left(y + 12\\right) + \\left(x - 10\\right) \\left(x - 1\\right) \\left(x + 12\\right) \\left(y - 1\\right) \\left(y + 12\\right)$"
      ],
      "text/plain": [
       "(x - 10)*(x - 1)*(x + 12)*(y - 10)*(y - 1) + (x - 10)*(x - 1)*(x + 12)*(y - 10)*(y + 12) + (x - 10)*(x - 1)*(x + 12)*(y - 1)*(y + 12)"
      ]
     },
     "execution_count": 13,
     "metadata": {},
     "output_type": "execute_result"
    }
   ],
   "source": [
    "dzy = z.diff(y)\n",
    "dzy"
   ]
  },
  {
   "cell_type": "code",
   "execution_count": 14,
   "metadata": {},
   "outputs": [
    {
     "data": {
      "text/latex": [
       "$\\displaystyle \\left(x - 10\\right) \\left(x - 1\\right) \\left(y - 10\\right) \\left(y - 1\\right) \\left(y + 12\\right) + \\left(x - 10\\right) \\left(x + 12\\right) \\left(y - 10\\right) \\left(y - 1\\right) \\left(y + 12\\right) + \\left(x - 1\\right) \\left(x + 12\\right) \\left(y - 10\\right) \\left(y - 1\\right) \\left(y + 12\\right) = 0$"
      ],
      "text/plain": [
       "Eq((x - 10)*(x - 1)*(y - 10)*(y - 1)*(y + 12) + (x - 10)*(x + 12)*(y - 10)*(y - 1)*(y + 12) + (x - 1)*(x + 12)*(y - 10)*(y - 1)*(y + 12), 0)"
      ]
     },
     "execution_count": 14,
     "metadata": {},
     "output_type": "execute_result"
    }
   ],
   "source": [
    "eq1 = sm.Eq(dzx, 0)\n",
    "eq2 = sm.Eq(dzy, 0)\n",
    "\n",
    "eq1"
   ]
  },
  {
   "cell_type": "code",
   "execution_count": 15,
   "metadata": {},
   "outputs": [
    {
     "data": {
      "text/latex": [
       "$\\displaystyle \\left(x - 10\\right) \\left(x - 1\\right) \\left(x + 12\\right) \\left(y - 10\\right) \\left(y - 1\\right) + \\left(x - 10\\right) \\left(x - 1\\right) \\left(x + 12\\right) \\left(y - 10\\right) \\left(y + 12\\right) + \\left(x - 10\\right) \\left(x - 1\\right) \\left(x + 12\\right) \\left(y - 1\\right) \\left(y + 12\\right) = 0$"
      ],
      "text/plain": [
       "Eq((x - 10)*(x - 1)*(x + 12)*(y - 10)*(y - 1) + (x - 10)*(x - 1)*(x + 12)*(y - 10)*(y + 12) + (x - 10)*(x - 1)*(x + 12)*(y - 1)*(y + 12), 0)"
      ]
     },
     "execution_count": 15,
     "metadata": {},
     "output_type": "execute_result"
    }
   ],
   "source": [
    "eq2"
   ]
  },
  {
   "cell_type": "markdown",
   "metadata": {},
   "source": [
    "### (3.2)"
   ]
  },
  {
   "cell_type": "code",
   "execution_count": 16,
   "metadata": {},
   "outputs": [
    {
     "data": {
      "text/plain": [
       "[{x: -12, y: -12},\n",
       " {x: -12, y: 1},\n",
       " {x: -12, y: 10},\n",
       " {x: 1, y: -12},\n",
       " {x: 1, y: 1},\n",
       " {x: 1, y: 10},\n",
       " {x: 10, y: -12},\n",
       " {x: 10, y: 1},\n",
       " {x: 10, y: 10},\n",
       " {x: -1/3 + sqrt(367)/3, y: -1/3 + sqrt(367)/3},\n",
       " {x: -1/3 + sqrt(367)/3, y: -sqrt(367)/3 - 1/3},\n",
       " {x: -sqrt(367)/3 - 1/3, y: -1/3 + sqrt(367)/3},\n",
       " {x: -sqrt(367)/3 - 1/3, y: -sqrt(367)/3 - 1/3}]"
      ]
     },
     "execution_count": 16,
     "metadata": {},
     "output_type": "execute_result"
    }
   ],
   "source": [
    "sol = sm.solve([eq1, eq2], x, y,  \n",
    "         dict=True,\n",
    "        ) \n",
    "sol"
   ]
  },
  {
   "cell_type": "code",
   "execution_count": 17,
   "metadata": {},
   "outputs": [
    {
     "data": {
      "text/plain": [
       "13"
      ]
     },
     "execution_count": 17,
     "metadata": {},
     "output_type": "execute_result"
    }
   ],
   "source": [
    "len(sol)"
   ]
  },
  {
   "cell_type": "markdown",
   "metadata": {},
   "source": [
    "### (3.3)"
   ]
  },
  {
   "cell_type": "code",
   "execution_count": 18,
   "metadata": {},
   "outputs": [],
   "source": [
    "from mpl_toolkits import mplot3d\n",
    "\n",
    "def f(x,y): \n",
    "    zx = (x-10)*(x-1)*(x+12) \n",
    "    zy = (y-10)*(y-1)*(y+12) \n",
    "    z = zx*zy \n",
    "    return z \n",
    "\n",
    "x,y = sm.symbols('x,y') \n",
    "z = f(x,y) \n",
    "\n",
    "%matplotlib qt \n",
    "\n",
    "q = sm.plotting.plot3d(\n",
    "   z,\n",
    "   (x,-10,10),\n",
    "   (y,-10,10),\n",
    "   xlabel= 'x',\n",
    "   ylabel= 'y',\n",
    "   title= f'z= f(x,y)= {z}',\n",
    "   show=False) \n",
    "\n",
    "q.show() "
   ]
  },
  {
   "cell_type": "code",
   "execution_count": null,
   "metadata": {},
   "outputs": [],
   "source": []
  }
 ],
 "metadata": {
  "kernelspec": {
   "display_name": "Python 3",
   "language": "python",
   "name": "python3"
  },
  "language_info": {
   "codemirror_mode": {
    "name": "ipython",
    "version": 3
   },
   "file_extension": ".py",
   "mimetype": "text/x-python",
   "name": "python",
   "nbconvert_exporter": "python",
   "pygments_lexer": "ipython3",
   "version": "3.8.5"
  }
 },
 "nbformat": 4,
 "nbformat_minor": 4
}
