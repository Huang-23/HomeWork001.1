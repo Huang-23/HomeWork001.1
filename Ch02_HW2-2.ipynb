{
 "cells": [
  {
   "cell_type": "markdown",
   "metadata": {},
   "source": [
    "## Case study 1: finding the general form of a function and its inverse"
   ]
  },
  {
   "cell_type": "code",
   "execution_count": 1,
   "metadata": {},
   "outputs": [
    {
     "name": "stdout",
     "output_type": "stream",
     "text": [
      "found 2 solutions for x:\n",
      "(k - sqrt(k**2 - 4*k*y + 4*y))/(2*(k - 1))\n",
      "(k + sqrt(k**2 - 4*k*y + 4*y))/(2*(k - 1))\n"
     ]
    }
   ],
   "source": [
    "import sympy\n",
    "\n",
    "# create a symbolic variable for each symbol in our equation\n",
    "y, x, k = sympy.symbols('y, x, k', real=True)\n",
    "\n",
    "# define the equation y = kx - (1-k)x^2\n",
    "fwd_equation = sympy.Eq(y, k*x - (k - 1)*x**2)\n",
    "\n",
    "# solve the equation for x and print solutions\n",
    "inverse = sympy.solve(fwd_equation, x)\n",
    "print('found {} solutions for x:'.format(len(inverse)))\n",
    "print('\\n'.join([str(s) for s in inverse]))"
   ]
  },
  {
   "cell_type": "code",
   "execution_count": 2,
   "metadata": {},
   "outputs": [
    {
     "name": "stdout",
     "output_type": "stream",
     "text": [
      "1.5 - 1.5*sqrt(1 - 0.888888888888889*y)\n",
      "1.83333333333333 - 1.83333333333333*sqrt(1 - 0.793388429752066*y)\n"
     ]
    }
   ],
   "source": [
    "print(inverse[0].subs(k, 1.5).simplify())\n",
    "print(inverse[0].subs(k, 1.375).simplify())"
   ]
  },
  {
   "cell_type": "code",
   "execution_count": 3,
   "metadata": {},
   "outputs": [
    {
     "name": "stdout",
     "output_type": "stream",
     "text": [
      "x = \\frac{k - \\sqrt{k^{2} - 4 k y + 4 y}}{2 \\left(k - 1\\right)}\n"
     ]
    }
   ],
   "source": [
    "print('x =', sympy.latex(inverse[0]))"
   ]
  },
  {
   "cell_type": "markdown",
   "metadata": {},
   "source": [
    "## Case study 2: solving systems of equations"
   ]
  },
  {
   "cell_type": "code",
   "execution_count": 4,
   "metadata": {},
   "outputs": [
    {
     "name": "stdout",
     "output_type": "stream",
     "text": [
      "found 2 solutions for lQ:\n",
      "{x₁: -cos(p), y₁: -│sin(p)│, z₁: 0}\n",
      "{x₁: -cos(p), y₁: │sin(p)│, z₁: 0}\n",
      "now lQ is Matrix([[-cos(p)], [Abs(sin(p))], [0]])\n"
     ]
    }
   ],
   "source": [
    "import sympy\n",
    "\n",
    "# create some symbols for angles\n",
    "p, q, r = sympy.symbols('p, q, r', real=True)\n",
    "\n",
    "# create some symbols for unknown elements of lQ\n",
    "x1, y1, z1 = sympy.symbols('x1, y1, z1')\n",
    "\n",
    "# define vectors we know so far\n",
    "P = sympy.Matrix([0, 0, 1])\n",
    "lR = sympy.Matrix([1, 0, 0])\n",
    "lQ = sympy.Matrix([x1, y1, z1])\n",
    "\n",
    "lQ_equations = [\n",
    "    sympy.Eq(lQ.dot(P), 0),              # lQ contains P\n",
    "    sympy.Eq(lQ.dot(lR), -sympy.cos(p)), # angle at point P\n",
    "    sympy.Eq(lQ.dot(lQ), 1)              # lQ is a unit vector\n",
    "]\n",
    "\n",
    "S = sympy.solve(lQ_equations, x1, y1, z1, dict=True, simplify=True)\n",
    "print('found {} solutions for lQ:'.format(len(S)))\n",
    "print('\\n'.join([sympy.pretty(sln) for sln in S])) # ask for pretty output\n",
    "\n",
    "lQ = lQ.subs(S[1])\n",
    "print('now lQ is {}'.format(lQ))"
   ]
  },
  {
   "cell_type": "code",
   "execution_count": 5,
   "metadata": {},
   "outputs": [
    {
     "name": "stdout",
     "output_type": "stream",
     "text": [
      "after subbing out abs, lQ is Matrix([[-cos(p)], [sin(p)], [0]])\n"
     ]
    }
   ],
   "source": [
    "lQ = lQ.subs(sympy.Abs(sympy.sin(p)), sympy.sin(p))\n",
    "print('after subbing out abs, lQ is {}'.format(lQ))"
   ]
  },
  {
   "cell_type": "code",
   "execution_count": 6,
   "metadata": {},
   "outputs": [
    {
     "name": "stdout",
     "output_type": "stream",
     "text": [
      "checking our work:\n",
      "  lQ . P  = 0\n",
      "  lQ . lR = -cos(p)\n",
      "  lQ . lQ = sin(p)**2 + cos(p)**2\n"
     ]
    }
   ],
   "source": [
    "print('checking our work:')\n",
    "print('  lQ . P  =', lQ.dot(P))\n",
    "print('  lQ . lR =', lQ.dot(lR))\n",
    "print('  lQ . lQ =', lQ.dot(lQ))"
   ]
  },
  {
   "cell_type": "code",
   "execution_count": 7,
   "metadata": {},
   "outputs": [
    {
     "name": "stdout",
     "output_type": "stream",
     "text": [
      "  lQ . lQ = 1\n"
     ]
    }
   ],
   "source": [
    "print('  lQ . lQ =', lQ.dot(lQ).simplify())"
   ]
  },
  {
   "cell_type": "code",
   "execution_count": 8,
   "metadata": {},
   "outputs": [
    {
     "name": "stdout",
     "output_type": "stream",
     "text": [
      "||lP||^2 = 1\n",
      "got 1 solutions for lP\n",
      "⎧                 -(cos(p)⋅cos(q) + cos(r)) ⎫\n",
      "⎨x₂: -cos(q), y₂: ──────────────────────────⎬\n",
      "⎩                           sin(p)          ⎭\n",
      "now lP is Matrix([[-cos(q)], [-(cos(p)*cos(q) + cos(r))/sin(p)], [sqrt(-(cos(p)*cos(q) + cos(r))**2/sin(p)**2 - cos(q)**2 + 1)]])\n"
     ]
    }
   ],
   "source": [
    "x2, y2 = sympy.symbols('x2, y2')\n",
    "z2 = sympy.sqrt(1 - x2**2 - y2**2)\n",
    "\n",
    "lP = sympy.Matrix([x2, y2, z2])\n",
    "print('||lP||^2 =', lP.dot(lP))\n",
    "\n",
    "lP_equations = [\n",
    "    sympy.Eq(lP.dot(lR), -sympy.cos(q)),\n",
    "    sympy.Eq(lP.dot(lQ), -sympy.cos(r)),\n",
    "]\n",
    "\n",
    "S = sympy.solve(lP_equations, x2, y2, dict=True, simplify=True)\n",
    "print('got {} solutions for lP'.format(len(S)))\n",
    "print('\\n'.join([sympy.pretty(sln) for sln in S]))\n",
    "\n",
    "lP = lP.subs(S[0])\n",
    "print('now lP is {}'.format(lP))"
   ]
  },
  {
   "cell_type": "code",
   "execution_count": 9,
   "metadata": {},
   "outputs": [],
   "source": [
    "#sol:\n",
    "\n",
    "#vec3 lr = vec3(1, 0, 0);\n",
    "#vec3 lq = vec3(-cp, sp, 0);\n",
    "#vec3 lp = vec3(-cq, -(cr + cp*cq)/sp, 0);\n",
    "#lp.z = sqrt(1.0 - dot(lp.xy, lp.xy));\n",
    "\n",
    "#vec3 P = normalize(cross(lr, lq));\n",
    "#vec3 Q = normalize(cross(lp, lr));\n",
    "#vec3 R = normalize(cross(lq, lp));"
   ]
  },
  {
   "cell_type": "markdown",
   "metadata": {},
   "source": [
    "## Refresher: derivatives of univariate and multivariable functions"
   ]
  },
  {
   "cell_type": "code",
   "execution_count": 10,
   "metadata": {},
   "outputs": [
    {
     "name": "stdout",
     "output_type": "stream",
     "text": [
      "f'(x) = - \\left(x \\cos{\\left(\\pi x \\right)} + \\pi \\sin{\\left(\\pi x \\right)}\\right) e^{- \\frac{x^{2}}{2}}\n"
     ]
    }
   ],
   "source": [
    "x = sympy.Symbol('x', real=True)\n",
    "f = sympy.exp(-x**2 / 2) * sympy.cos(sympy.pi*x)\n",
    "\n",
    "dfdx = f.diff(x) # <- yes, taking derivatives is this easy!\n",
    "\n",
    "print(\"f'(x) =\", sympy.latex(sympy.simplify(dfdx)))"
   ]
  },
  {
   "cell_type": "code",
   "execution_count": 11,
   "metadata": {},
   "outputs": [
    {
     "name": "stdout",
     "output_type": "stream",
     "text": [
      "\\frac{\\partial g}{\\partial x} = - \\left(x \\cos{\\left(\\pi x \\right)} + \\pi \\sin{\\left(\\pi x \\right)}\\right) e^{- \\frac{x^{2}}{2} - \\frac{y^{2}}{2}}\n",
      "\\frac{\\partial g}{\\partial y} = - y e^{- \\frac{x^{2}}{2} - \\frac{y^{2}}{2}} \\cos{\\left(\\pi x \\right)}\n"
     ]
    }
   ],
   "source": [
    "x, y = sympy.symbols('x, y', real=True)\n",
    "g = sympy.exp(-(x**2 + y**2) / 2) * sympy.cos(sympy.pi*x)\n",
    "\n",
    "for var in [x, y]:\n",
    "    print(\"\\\\frac{\\\\partial g}{\\\\partial \" + str(var) + \"} =\",\n",
    "          sympy.latex(sympy.simplify(g.diff(var))))"
   ]
  },
  {
   "cell_type": "markdown",
   "metadata": {},
   "source": [
    "## Case study 3: Jacobians for nonlinear least squares"
   ]
  },
  {
   "cell_type": "code",
   "execution_count": 12,
   "metadata": {},
   "outputs": [],
   "source": [
    "import sympy\n",
    "\n",
    "x, y, u, v, h, s, t, l, rho, phi = sympy.symbols(\n",
    "    'x, y, u, v, h, s, t, l, rho, phi', real=True)\n",
    "\n",
    "cr = sympy.cos(rho)\n",
    "sr = sympy.sin(rho)\n",
    "\n",
    "xp =  (x - u) * cr + (y - v) * sr\n",
    "yp = -(x - u) * sr + (y - v) * cr\n",
    "\n",
    "f = ( h * sympy.exp(-xp**2 / (2*s**2) - yp**2 / (2*t**2) ) *\n",
    "      sympy.cos( 2 * sympy.pi * xp / l + phi ) )"
   ]
  },
  {
   "cell_type": "code",
   "execution_count": 13,
   "metadata": {},
   "outputs": [
    {
     "name": "stdout",
     "output_type": "stream",
     "text": [
      "grad[0] = h*(-((u - x)*sin(rho) + (-v + y)*cos(rho))*sin(rho)/pow(t, 2) + ((-u + x)*cos(rho) + (-v + y)*sin(rho))*cos(rho)/pow(s, 2))*exp(-1.0/2.0*pow((u - x)*sin(rho) + (-v + y)*cos(rho), 2)/pow(t, 2) - 1.0/2.0*pow((-u + x)*cos(rho) + (-v + y)*sin(rho), 2)/pow(s, 2))*cos(phi + 2*M_PI*((-u + x)*cos(rho) + (-v + y)*sin(rho))/l) + 2*M_PI*h*exp(-1.0/2.0*pow((u - x)*sin(rho) + (-v + y)*cos(rho), 2)/pow(t, 2) - 1.0/2.0*pow((-u + x)*cos(rho) + (-v + y)*sin(rho), 2)/pow(s, 2))*sin(phi + 2*M_PI*((-u + x)*cos(rho) + (-v + y)*sin(rho))/l)*cos(rho)/l;\n",
      "grad[1] = h*(((u - x)*sin(rho) + (-v + y)*cos(rho))*cos(rho)/pow(t, 2) + ((-u + x)*cos(rho) + (-v + y)*sin(rho))*sin(rho)/pow(s, 2))*exp(-1.0/2.0*pow((u - x)*sin(rho) + (-v + y)*cos(rho), 2)/pow(t, 2) - 1.0/2.0*pow((-u + x)*cos(rho) + (-v + y)*sin(rho), 2)/pow(s, 2))*cos(phi + 2*M_PI*((-u + x)*cos(rho) + (-v + y)*sin(rho))/l) + 2*M_PI*h*exp(-1.0/2.0*pow((u - x)*sin(rho) + (-v + y)*cos(rho), 2)/pow(t, 2) - 1.0/2.0*pow((-u + x)*cos(rho) + (-v + y)*sin(rho), 2)/pow(s, 2))*sin(rho)*sin(phi + 2*M_PI*((-u + x)*cos(rho) + (-v + y)*sin(rho))/l)/l;\n",
      "grad[2] = exp(-1.0/2.0*pow((u - x)*sin(rho) + (-v + y)*cos(rho), 2)/pow(t, 2) - 1.0/2.0*pow((-u + x)*cos(rho) + (-v + y)*sin(rho), 2)/pow(s, 2))*cos(phi + 2*M_PI*((-u + x)*cos(rho) + (-v + y)*sin(rho))/l);\n",
      "grad[3] = h*pow((-u + x)*cos(rho) + (-v + y)*sin(rho), 2)*exp(-1.0/2.0*pow((u - x)*sin(rho) + (-v + y)*cos(rho), 2)/pow(t, 2) - 1.0/2.0*pow((-u + x)*cos(rho) + (-v + y)*sin(rho), 2)/pow(s, 2))*cos(phi + 2*M_PI*((-u + x)*cos(rho) + (-v + y)*sin(rho))/l)/pow(s, 3);\n",
      "grad[4] = h*pow((u - x)*sin(rho) + (-v + y)*cos(rho), 2)*exp(-1.0/2.0*pow((u - x)*sin(rho) + (-v + y)*cos(rho), 2)/pow(t, 2) - 1.0/2.0*pow((-u + x)*cos(rho) + (-v + y)*sin(rho), 2)/pow(s, 2))*cos(phi + 2*M_PI*((-u + x)*cos(rho) + (-v + y)*sin(rho))/l)/pow(t, 3);\n",
      "grad[5] = 2*M_PI*h*((-u + x)*cos(rho) + (-v + y)*sin(rho))*exp(-1.0/2.0*pow((u - x)*sin(rho) + (-v + y)*cos(rho), 2)/pow(t, 2) - 1.0/2.0*pow((-u + x)*cos(rho) + (-v + y)*sin(rho), 2)/pow(s, 2))*sin(phi + 2*M_PI*((-u + x)*cos(rho) + (-v + y)*sin(rho))/l)/pow(l, 2);\n",
      "grad[6] = h*(-1.0/2.0*((u - x)*sin(rho) + (-v + y)*cos(rho))*(2*(u - x)*cos(rho) - 2*(-v + y)*sin(rho))/pow(t, 2) - 1.0/2.0*(-2*(-u + x)*sin(rho) + 2*(-v + y)*cos(rho))*((-u + x)*cos(rho) + (-v + y)*sin(rho))/pow(s, 2))*exp(-1.0/2.0*pow((u - x)*sin(rho) + (-v + y)*cos(rho), 2)/pow(t, 2) - 1.0/2.0*pow((-u + x)*cos(rho) + (-v + y)*sin(rho), 2)/pow(s, 2))*cos(phi + 2*M_PI*((-u + x)*cos(rho) + (-v + y)*sin(rho))/l) - 2*M_PI*h*(-(-u + x)*sin(rho) + (-v + y)*cos(rho))*exp(-1.0/2.0*pow((u - x)*sin(rho) + (-v + y)*cos(rho), 2)/pow(t, 2) - 1.0/2.0*pow((-u + x)*cos(rho) + (-v + y)*sin(rho), 2)/pow(s, 2))*sin(phi + 2*M_PI*((-u + x)*cos(rho) + (-v + y)*sin(rho))/l)/l;\n",
      "grad[7] = -h*exp(-1.0/2.0*pow((u - x)*sin(rho) + (-v + y)*cos(rho), 2)/pow(t, 2) - 1.0/2.0*pow((-u + x)*cos(rho) + (-v + y)*sin(rho), 2)/pow(s, 2))*sin(phi + 2*M_PI*((-u + x)*cos(rho) + (-v + y)*sin(rho))/l);\n"
     ]
    }
   ],
   "source": [
    "theta = (u, v, h, s, t, l, rho, phi)\n",
    "\n",
    "for i, var in enumerate(theta):\n",
    "    deriv = f.diff(var)\n",
    "    print('grad[{}]'.format(i), '=', sympy.ccode(deriv) + ';')"
   ]
  },
  {
   "cell_type": "code",
   "execution_count": 14,
   "metadata": {},
   "outputs": [
    {
     "name": "stdout",
     "output_type": "stream",
     "text": [
      "double sigma_0 = cos(rho);\n",
      "double sigma_1 = 2*sigma_0;\n",
      "double sigma_2 = -u + x;\n",
      "double sigma_3 = sin(rho);\n",
      "double sigma_4 = -v + y;\n",
      "double sigma_5 = sigma_3*sigma_4;\n",
      "double sigma_6 = sigma_0*sigma_2 + sigma_5;\n",
      "double sigma_7 = M_PI/l;\n",
      "double sigma_8 = 2*sigma_7;\n",
      "double sigma_9 = phi + sigma_6*sigma_8;\n",
      "double sigma_10 = pow(s, -2);\n",
      "double sigma_11 = pow(sigma_6, 2);\n",
      "double sigma_12 = pow(t, -2);\n",
      "double sigma_13 = u - x;\n",
      "double sigma_14 = sigma_0*sigma_4;\n",
      "double sigma_15 = sigma_13*sigma_3 + sigma_14;\n",
      "double sigma_16 = pow(sigma_15, 2);\n",
      "double sigma_17 = exp(-1.0/2.0*sigma_10*sigma_11 - 1.0/2.0*sigma_12*sigma_16);\n",
      "double sigma_18 = h*sigma_17*sin(sigma_9);\n",
      "double sigma_19 = sigma_10*sigma_6;\n",
      "double sigma_20 = sigma_12*sigma_15;\n",
      "double sigma_21 = sigma_17*cos(sigma_9);\n",
      "double sigma_22 = h*sigma_21;\n",
      "double sigma_23 = sigma_18*sigma_8;\n",
      "double sigma_24 = sigma_2*sigma_3;\n",
      "\n",
      "grad[0] = sigma_1*sigma_18*sigma_7 + sigma_22*(sigma_0*sigma_19 - sigma_20*sigma_3);\n",
      "grad[1] = sigma_22*(sigma_0*sigma_20 + sigma_19*sigma_3) + sigma_23*sigma_3;\n",
      "grad[2] = sigma_21;\n",
      "grad[3] = sigma_11*sigma_22/pow(s, 3);\n",
      "grad[4] = sigma_16*sigma_22/pow(t, 3);\n",
      "grad[5] = 2*M_PI*sigma_18*sigma_6/pow(l, 2);\n",
      "grad[6] = sigma_22*(-1.0/2.0*sigma_19*(2*sigma_14 - 2*sigma_24) - 1.0/2.0*sigma_20*(sigma_1*sigma_13 - 2*sigma_5)) - sigma_23*(sigma_14 - sigma_24);\n",
      "grad[7] = -sigma_18;\n"
     ]
    }
   ],
   "source": [
    "derivs = [ f.diff(var) for var in theta ]\n",
    "\n",
    "variable_namer = sympy.numbered_symbols('sigma_')\n",
    "replacements, reduced = sympy.cse(derivs, symbols=variable_namer)\n",
    "\n",
    "for key, val in replacements:\n",
    "    print('double', key, '=', sympy.ccode(val) + ';')\n",
    "\n",
    "print()\n",
    "\n",
    "for i, r in enumerate(reduced):\n",
    "    print('grad[{}]'.format(i), '=', sympy.ccode(r) + ';')"
   ]
  },
  {
   "cell_type": "code",
   "execution_count": null,
   "metadata": {},
   "outputs": [],
   "source": []
  }
 ],
 "metadata": {
  "kernelspec": {
   "display_name": "Python 3",
   "language": "python",
   "name": "python3"
  },
  "language_info": {
   "codemirror_mode": {
    "name": "ipython",
    "version": 3
   },
   "file_extension": ".py",
   "mimetype": "text/x-python",
   "name": "python",
   "nbconvert_exporter": "python",
   "pygments_lexer": "ipython3",
   "version": "3.8.5"
  }
 },
 "nbformat": 4,
 "nbformat_minor": 4
}
