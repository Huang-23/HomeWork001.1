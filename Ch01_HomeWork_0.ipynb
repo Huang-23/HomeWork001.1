{
 "cells": [
  {
   "cell_type": "code",
   "execution_count": 1,
   "metadata": {},
   "outputs": [],
   "source": [
    "#係數矩陣A、常數矩陣B、係數矩陣的反矩陣A_inv\n",
    "#Ax=B\n",
    "#A^(-1) Ax=A^(-1) B\n",
    "#x=A^(-1) B"
   ]
  },
  {
   "cell_type": "code",
   "execution_count": 2,
   "metadata": {},
   "outputs": [],
   "source": [
    "import numpy as np"
   ]
  },
  {
   "cell_type": "markdown",
   "metadata": {},
   "source": [
    "## 3變數線性方程組"
   ]
  },
  {
   "cell_type": "code",
   "execution_count": 3,
   "metadata": {},
   "outputs": [
    {
     "name": "stdout",
     "output_type": "stream",
     "text": [
      "\n",
      "n = 3, \n",
      "A = \n",
      "[[ 0 -5 -2]\n",
      " [-2  2  4]\n",
      " [-2  0 -3]]\n",
      "B = \n",
      "[[0]\n",
      " [3]\n",
      " [4]]\n",
      "x = \n",
      "[[-1.75806452]\n",
      " [ 0.06451613]\n",
      " [-0.16129032]]\n",
      "\n"
     ]
    },
    {
     "data": {
      "text/plain": [
       "array([[ True],\n",
       "       [ True],\n",
       "       [ True]])"
      ]
     },
     "execution_count": 3,
     "metadata": {},
     "output_type": "execute_result"
    }
   ],
   "source": [
    "n = 3  # 變數個數\n",
    "#n = np.random.randint(2,10)\n",
    "\n",
    "np.random.seed(0)  # 設置seed使每次生成的隨機數相同\n",
    "A = np.random.randint(-5, 5, size = (n,n))  # 產生nxn、數值範圍[-5,5)的係數矩陣A\n",
    "\n",
    "np.random.seed(1)  # 設置seed使每次生成的隨機數相同\n",
    "B = np.random.randint(-5, 5, size = (n,1))  # 產生nx1、數值範圍[-5,5)的常數矩陣B\n",
    "\n",
    "## 解法一：\n",
    "x = np.linalg.solve(A, B)  # 直接得出解矩陣x\n",
    "\n",
    "print(\n",
    "f'''\n",
    "n = {n}, \n",
    "A = \n",
    "{A}\n",
    "B = \n",
    "{B}\n",
    "x = \n",
    "{x}\n",
    "''')\n",
    "\n",
    "np.isclose(A @ x, B)  # 驗算(A @ x == B)"
   ]
  },
  {
   "cell_type": "code",
   "execution_count": 4,
   "metadata": {},
   "outputs": [
    {
     "data": {
      "text/plain": [
       "array([[-1.75806452],\n",
       "       [ 0.06451613],\n",
       "       [-0.16129032]])"
      ]
     },
     "execution_count": 4,
     "metadata": {},
     "output_type": "execute_result"
    }
   ],
   "source": [
    "## 解法二：\n",
    "x1 = np.linalg.inv(A) @ B  # x=A^(-1) B\n",
    "x1"
   ]
  },
  {
   "cell_type": "code",
   "execution_count": 5,
   "metadata": {},
   "outputs": [
    {
     "data": {
      "text/plain": [
       "array([[ True],\n",
       "       [ True],\n",
       "       [ True]])"
      ]
     },
     "execution_count": 5,
     "metadata": {},
     "output_type": "execute_result"
    }
   ],
   "source": [
    "np.isclose(A @ x1, B)  # 驗算(A @ x1 == B)"
   ]
  },
  {
   "cell_type": "markdown",
   "metadata": {},
   "source": [
    "## 5個變數線性方程組"
   ]
  },
  {
   "cell_type": "code",
   "execution_count": 6,
   "metadata": {},
   "outputs": [
    {
     "name": "stdout",
     "output_type": "stream",
     "text": [
      "\n",
      "n = 5, \n",
      "A = \n",
      "[[ 0 -5 -2 -2  2]\n",
      " [ 4 -2  0 -3 -1]\n",
      " [ 2  1  3  3 -4]\n",
      " [ 1  2  2  3 -4]\n",
      " [ 0  4  3  4 -1]]\n",
      "B = \n",
      "[[ 0]\n",
      " [ 3]\n",
      " [ 4]\n",
      " [ 0]\n",
      " [-5]]\n",
      "x = \n",
      "[[-5.05357143]\n",
      " [-1.75      ]\n",
      " [ 7.30357143]\n",
      " [-5.66071429]\n",
      " [-2.73214286]]\n",
      "\n"
     ]
    },
    {
     "data": {
      "text/plain": [
       "array([[ True],\n",
       "       [ True],\n",
       "       [ True],\n",
       "       [ True],\n",
       "       [ True]])"
      ]
     },
     "execution_count": 6,
     "metadata": {},
     "output_type": "execute_result"
    }
   ],
   "source": [
    "n = 5  # 變數個數\n",
    "\n",
    "np.random.seed(0)  # 設置seed使每次生成的隨機數相同\n",
    "A = np.random.randint(-5, 5, size = (n,n))  # 產生nxn、數值範圍[-5,5)的係數矩陣A\n",
    "\n",
    "np.random.seed(1)  # 設置seed使每次生成的隨機數相同\n",
    "B = np.random.randint(-5, 5, size = (n,1))  # 產生nx1、數值範圍[-5,5)的常數矩陣B\n",
    "\n",
    "x = np.linalg.solve(A, B)  # 直接得出解矩陣x\n",
    "\n",
    "print(\n",
    "f'''\n",
    "n = {n}, \n",
    "A = \n",
    "{A}\n",
    "B = \n",
    "{B}\n",
    "x = \n",
    "{x}\n",
    "''')\n",
    "\n",
    "np.isclose(A @ x, B)  # 驗算(A @ x == B)"
   ]
  },
  {
   "cell_type": "markdown",
   "metadata": {},
   "source": [
    "## 10個變數線性方程組"
   ]
  },
  {
   "cell_type": "code",
   "execution_count": 7,
   "metadata": {},
   "outputs": [
    {
     "name": "stdout",
     "output_type": "stream",
     "text": [
      "\n",
      "n = 10, \n",
      "A = \n",
      "[[ 0 -5 -2 -2  2  4 -2  0 -3 -1]\n",
      " [ 2  1  3  3 -4  1  2  2  3 -4]\n",
      " [ 0  4  3  4 -1 -2 -5 -2  0 -5]\n",
      " [-3 -2  3 -4 -2 -2 -2  2 -5 -4]\n",
      " [ 4  4 -5 -1  2 -2 -3  2 -3 -5]\n",
      " [-5 -1  0  0  1  3 -1 -4 -1  4]\n",
      " [ 3 -4 -4  2  4  4 -2  1  2 -3]\n",
      " [-5 -2  0  4 -1 -1  1 -1 -1 -2]\n",
      " [-1 -1  3 -1 -2  2  0  0 -5 -4]\n",
      " [ 0  4 -2 -5  0 -5 -4 -3 -1 -3]]\n",
      "B = \n",
      "[[ 0]\n",
      " [ 3]\n",
      " [ 4]\n",
      " [ 0]\n",
      " [-5]\n",
      " [-5]\n",
      " [-4]\n",
      " [ 2]\n",
      " [ 1]\n",
      " [ 4]]\n",
      "x = \n",
      "[[ 2.41026587]\n",
      " [-2.33689728]\n",
      " [-0.30247412]\n",
      " [ 0.90538128]\n",
      " [-2.84414544]\n",
      " [-1.88566993]\n",
      " [-0.59590749]\n",
      " [-2.26735821]\n",
      " [-0.75324469]\n",
      " [ 0.69925056]]\n",
      "\n"
     ]
    },
    {
     "data": {
      "text/plain": [
       "array([[ True],\n",
       "       [ True],\n",
       "       [ True],\n",
       "       [ True],\n",
       "       [ True],\n",
       "       [ True],\n",
       "       [ True],\n",
       "       [ True],\n",
       "       [ True],\n",
       "       [ True]])"
      ]
     },
     "execution_count": 7,
     "metadata": {},
     "output_type": "execute_result"
    }
   ],
   "source": [
    "n = 10  # 變數個數\n",
    "\n",
    "np.random.seed(0)  # 設置seed使每次生成的隨機數相同\n",
    "A = np.random.randint(-5, 5, size = (n,n))  # 產生nxn、數值範圍[-5,5)的係數矩陣A\n",
    "\n",
    "np.random.seed(1)  # 設置seed使每次生成的隨機數相同\n",
    "B = np.random.randint(-5, 5, size = (n,1))  # 產生nx1、數值範圍[-5,5)的常數矩陣B\n",
    "\n",
    "x = np.linalg.solve(A, B)  # 直接得出解矩陣x\n",
    "\n",
    "print(\n",
    "f'''\n",
    "n = {n}, \n",
    "A = \n",
    "{A}\n",
    "B = \n",
    "{B}\n",
    "x = \n",
    "{x}\n",
    "''')\n",
    "\n",
    "np.isclose(A @ x, B)  # 驗算(A @ x == B)"
   ]
  },
  {
   "cell_type": "code",
   "execution_count": null,
   "metadata": {},
   "outputs": [],
   "source": []
  }
 ],
 "metadata": {
  "kernelspec": {
   "display_name": "Python 3",
   "language": "python",
   "name": "python3"
  },
  "language_info": {
   "codemirror_mode": {
    "name": "ipython",
    "version": 3
   },
   "file_extension": ".py",
   "mimetype": "text/x-python",
   "name": "python",
   "nbconvert_exporter": "python",
   "pygments_lexer": "ipython3",
   "version": "3.8.5"
  }
 },
 "nbformat": 4,
 "nbformat_minor": 4
}
