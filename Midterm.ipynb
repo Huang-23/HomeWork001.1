{
 "cells": [
  {
   "cell_type": "code",
   "execution_count": 1,
   "metadata": {},
   "outputs": [
    {
     "data": {
      "text/latex": [
       "$\\displaystyle \\frac{N^{11}}{11}$"
      ],
      "text/plain": [
       "N**11/11"
      ]
     },
     "execution_count": 1,
     "metadata": {},
     "output_type": "execute_result"
    }
   ],
   "source": [
    "#1.01\n",
    "import math\n",
    "from sympy import *                                                                                               \n",
    "x = symbols('x')\n",
    "N = symbols('N')\n",
    "integrate(x**10, (x, 0, N))"
   ]
  },
  {
   "cell_type": "code",
   "execution_count": 2,
   "metadata": {},
   "outputs": [
    {
     "data": {
      "text/latex": [
       "$\\displaystyle \\frac{N^{11}}{11} + \\frac{N^{10}}{2} + \\frac{5 N^{9}}{6} - N^{7} + N^{5} - \\frac{N^{3}}{2} + \\frac{5 N}{66}$"
      ],
      "text/plain": [
       "N**11/11 + N**10/2 + 5*N**9/6 - N**7 + N**5 - N**3/2 + 5*N/66"
      ]
     },
     "execution_count": 2,
     "metadata": {},
     "output_type": "execute_result"
    }
   ],
   "source": [
    "#1.02\n",
    "import sympy\n",
    "x, N = sympy.symbols('x, N')\n",
    "sympy.summation(x**10, (x, 0, N))"
   ]
  },
  {
   "cell_type": "code",
   "execution_count": 3,
   "metadata": {},
   "outputs": [
    {
     "data": {
      "text/latex": [
       "$\\displaystyle \\frac{N^{11}}{11} - \\frac{N^{10}}{2} + \\frac{5 N^{9}}{6} - N^{7} + N^{5} - \\frac{N^{3}}{2} + \\frac{5 N}{66}$"
      ],
      "text/plain": [
       "N**11/11 - N**10/2 + 5*N**9/6 - N**7 + N**5 - N**3/2 + 5*N/66"
      ]
     },
     "execution_count": 3,
     "metadata": {},
     "output_type": "execute_result"
    }
   ],
   "source": [
    "#1.03\n",
    "import sympy\n",
    "x, N = sympy.symbols('x, N')\n",
    "sympy.summation((x-1)**10, (x, 1, N))"
   ]
  },
  {
   "cell_type": "code",
   "execution_count": 4,
   "metadata": {},
   "outputs": [
    {
     "data": {
      "text/latex": [
       "$\\displaystyle 3628800$"
      ],
      "text/plain": [
       "3628800"
      ]
     },
     "execution_count": 4,
     "metadata": {},
     "output_type": "execute_result"
    }
   ],
   "source": [
    "#1.04\n",
    "import math\n",
    "from sympy import *                                                                                               \n",
    "x = symbols('x')\n",
    "integrate((x**10)*exp(-x), (x, 0, oo))"
   ]
  },
  {
   "cell_type": "code",
   "execution_count": 5,
   "metadata": {},
   "outputs": [
    {
     "data": {
      "text/latex": [
       "$\\displaystyle e^{- \\left(x - 1\\right)^{2} - \\left(y + 1\\right)^{2}}$"
      ],
      "text/plain": [
       "exp(-(x - 1)**2 - (y + 1)**2)"
      ]
     },
     "execution_count": 5,
     "metadata": {},
     "output_type": "execute_result"
    }
   ],
   "source": [
    "#1.05\n",
    "import sympy as sm\n",
    "x,y = sm.symbols('x,y')\n",
    "z = exp(-((x-1)**2+(y+1)**2))\n",
    "z"
   ]
  },
  {
   "cell_type": "code",
   "execution_count": 6,
   "metadata": {},
   "outputs": [
    {
     "data": {
      "text/latex": [
       "$\\displaystyle \\left(2 - 2 x\\right) e^{- \\left(x - 1\\right)^{2} - \\left(y + 1\\right)^{2}}$"
      ],
      "text/plain": [
       "(2 - 2*x)*exp(-(x - 1)**2 - (y + 1)**2)"
      ]
     },
     "execution_count": 6,
     "metadata": {},
     "output_type": "execute_result"
    }
   ],
   "source": [
    "dzx = z.diff(x)\n",
    "dzx"
   ]
  },
  {
   "cell_type": "code",
   "execution_count": 7,
   "metadata": {},
   "outputs": [
    {
     "data": {
      "text/latex": [
       "$\\displaystyle \\left(- 2 y - 2\\right) e^{- \\left(x - 1\\right)^{2} - \\left(y + 1\\right)^{2}}$"
      ],
      "text/plain": [
       "(-2*y - 2)*exp(-(x - 1)**2 - (y + 1)**2)"
      ]
     },
     "execution_count": 7,
     "metadata": {},
     "output_type": "execute_result"
    }
   ],
   "source": [
    "dzy = z.diff(y)\n",
    "dzy"
   ]
  },
  {
   "cell_type": "code",
   "execution_count": 8,
   "metadata": {},
   "outputs": [
    {
     "data": {
      "text/latex": [
       "$\\displaystyle \\left(2 - 2 x\\right) \\left(- 2 y - 2\\right) e^{- \\left(x - 1\\right)^{2} - \\left(y + 1\\right)^{2}}$"
      ],
      "text/plain": [
       "(2 - 2*x)*(-2*y - 2)*exp(-(x - 1)**2 - (y + 1)**2)"
      ]
     },
     "execution_count": 8,
     "metadata": {},
     "output_type": "execute_result"
    }
   ],
   "source": [
    "dzxy = dzy.diff(x)\n",
    "dzxy"
   ]
  },
  {
   "cell_type": "code",
   "execution_count": 9,
   "metadata": {},
   "outputs": [
    {
     "data": {
      "text/latex": [
       "$\\displaystyle \\left(2 - 2 x\\right) e^{- \\left(x - 1\\right)^{2} - \\left(y + 1\\right)^{2}} = 0$"
      ],
      "text/plain": [
       "Eq((2 - 2*x)*exp(-(x - 1)**2 - (y + 1)**2), 0)"
      ]
     },
     "execution_count": 9,
     "metadata": {},
     "output_type": "execute_result"
    }
   ],
   "source": [
    "#1.06\n",
    "eq1 = sm.Eq(dzx, 0)\n",
    "eq2 = sm.Eq(dzy, 0)\n",
    "eq1"
   ]
  },
  {
   "cell_type": "code",
   "execution_count": 10,
   "metadata": {},
   "outputs": [
    {
     "data": {
      "text/latex": [
       "$\\displaystyle \\left(- 2 y - 2\\right) e^{- \\left(x - 1\\right)^{2} - \\left(y + 1\\right)^{2}} = 0$"
      ],
      "text/plain": [
       "Eq((-2*y - 2)*exp(-(x - 1)**2 - (y + 1)**2), 0)"
      ]
     },
     "execution_count": 10,
     "metadata": {},
     "output_type": "execute_result"
    }
   ],
   "source": [
    "eq2"
   ]
  },
  {
   "cell_type": "code",
   "execution_count": 11,
   "metadata": {},
   "outputs": [
    {
     "data": {
      "text/plain": [
       "[{x: 1, y: -1}]"
      ]
     },
     "execution_count": 11,
     "metadata": {},
     "output_type": "execute_result"
    }
   ],
   "source": [
    "sol = sm.solve([eq1, eq2], x, y,  \n",
    "         dict=True,\n",
    "        ) \n",
    "sol"
   ]
  },
  {
   "cell_type": "code",
   "execution_count": 12,
   "metadata": {},
   "outputs": [],
   "source": [
    "#1.07\n",
    "import numpy as np\n",
    "import pylab as pl\n",
    "import sympy as sm\n",
    "import matplotlib.pyplot as plt\n",
    "\n",
    "def f(x,y):  \n",
    "    z = np.exp(-((x-1)**2+(y+1)**2))\n",
    "    return z \n",
    "\n",
    "ϵ = 0.1 \n",
    "ym, xm = np.mgrid[-10:10+ϵ:ϵ, -10:10+ϵ:ϵ] \n",
    "zm = f(xm, ym)"
   ]
  },
  {
   "cell_type": "code",
   "execution_count": 13,
   "metadata": {},
   "outputs": [
    {
     "data": {
      "text/plain": [
       "<mpl_toolkits.mplot3d.art3d.Poly3DCollection at 0x7fca7356ef40>"
      ]
     },
     "execution_count": 13,
     "metadata": {},
     "output_type": "execute_result"
    },
    {
     "data": {
      "image/png": "[encoded data removed]",
      "text/plain": [
       "<Figure size 432x288 with 1 Axes>"
      ]
     },
     "metadata": {
      "needs_background": "light"
     },
     "output_type": "display_data"
    }
   ],
   "source": [
    "from mpl_toolkits import mplot3d \n",
    "\n",
    "fg = pl.figure()\n",
    "\n",
    "ax = pl.axes(projection = '3d',  \n",
    "            xlabel = 'x',  \n",
    "            ylabel = 'y',  \n",
    "            title = 'z= f(x,y)') \n",
    "\n",
    "ax.plot_surface(xm,ym,zm,  \n",
    "                rstride = 5,  \n",
    "                cstride = 5, \n",
    "                cmap = 'rainbow',   \n",
    "                edgecolor = 'gray'\n",
    "               )"
   ]
  },
  {
   "cell_type": "code",
   "execution_count": 14,
   "metadata": {},
   "outputs": [
    {
     "data": {
      "text/plain": [
       "(array([90]), array([110]), array([200]), array([0]))"
      ]
     },
     "execution_count": 14,
     "metadata": {},
     "output_type": "execute_result"
    }
   ],
   "source": [
    "# 找最高與最低 \n",
    "zm.max(), zm.argmax() \n",
    "zm.min(), zm.argmin() \n",
    "imax, jmax = np.where(zm == zm.max()) \n",
    "imin, jmin = np.where(zm == zm.min()) \n",
    "imax, jmax, imin, jmin "
   ]
  },
  {
   "cell_type": "code",
   "execution_count": 15,
   "metadata": {},
   "outputs": [
    {
     "data": {
      "text/plain": [
       "<matplotlib.colorbar.Colorbar at 0x7fca75536220>"
      ]
     },
     "execution_count": 15,
     "metadata": {},
     "output_type": "execute_result"
    },
    {
     "data": {
      "image/png": "[encoded data removed]",
      "text/plain": [
       "<Figure size 432x288 with 2 Axes>"
      ]
     },
     "metadata": {
      "needs_background": "light"
     },
     "output_type": "display_data"
    }
   ],
   "source": [
    "pl.figure()\n",
    "pl.imshow(zm,  \n",
    "          origin='lower',\n",
    "          cmap= 'rainbow'\n",
    "          ) \n",
    "\n",
    "pl.xlabel('x') \n",
    "pl.ylabel('y') \n",
    "pl.title('z = f(x,y), Finding the max and min') \n",
    "\n",
    "xmax, ymax = jmax, imax\n",
    "xmin, ymin = jmin, imin \n",
    "\n",
    "pl.plot(xmax, ymax, 'wx') \n",
    "pl.plot(xmin, ymin, 'wo') \n",
    "pl.text(xmax, ymax, 'max', color='b') \n",
    "pl.text(xmin, ymin, 'min', color='y')\n",
    "pl.colorbar()"
   ]
  },
  {
   "cell_type": "code",
   "execution_count": 16,
   "metadata": {},
   "outputs": [
    {
     "data": {
      "text/plain": [
       "(0.20787957635076193+0j)"
      ]
     },
     "execution_count": 16,
     "metadata": {},
     "output_type": "execute_result"
    }
   ],
   "source": [
    "#1.08\n",
    "import cmath\n",
    "j=cmath.sqrt(-1)\n",
    "j**j"
   ]
  },
  {
   "cell_type": "code",
   "execution_count": 17,
   "metadata": {},
   "outputs": [
    {
     "data": {
      "text/plain": [
       "array([[5, 1],\n",
       "       [1, 5]])"
      ]
     },
     "execution_count": 17,
     "metadata": {},
     "output_type": "execute_result"
    }
   ],
   "source": [
    "#2.01\n",
    "import numpy as np\n",
    "A= [[5, 1],\n",
    "    [1, 5]]\n",
    "A= np.array(A)\n",
    "A"
   ]
  },
  {
   "cell_type": "code",
   "execution_count": 18,
   "metadata": {},
   "outputs": [
    {
     "data": {
      "text/plain": [
       "array([[ 0.20833333, -0.04166667],\n",
       "       [-0.04166667,  0.20833333]])"
      ]
     },
     "execution_count": 18,
     "metadata": {},
     "output_type": "execute_result"
    }
   ],
   "source": [
    "invA= np.linalg.inv(A)\n",
    "invA"
   ]
  },
  {
   "cell_type": "code",
   "execution_count": 19,
   "metadata": {},
   "outputs": [
    {
     "data": {
      "text/plain": [
       "array([[10],\n",
       "       [20]])"
      ]
     },
     "execution_count": 19,
     "metadata": {},
     "output_type": "execute_result"
    }
   ],
   "source": [
    "#2.02\n",
    "b= [[10],\n",
    "    [20]]\n",
    "b= np.array(b)\n",
    "b"
   ]
  },
  {
   "cell_type": "code",
   "execution_count": 20,
   "metadata": {},
   "outputs": [
    {
     "data": {
      "text/plain": [
       "array([[ 70],\n",
       "       [110]])"
      ]
     },
     "execution_count": 20,
     "metadata": {},
     "output_type": "execute_result"
    }
   ],
   "source": [
    "A@b"
   ]
  },
  {
   "cell_type": "code",
   "execution_count": 21,
   "metadata": {},
   "outputs": [
    {
     "data": {
      "text/plain": [
       "array([[10, 20]])"
      ]
     },
     "execution_count": 21,
     "metadata": {},
     "output_type": "execute_result"
    }
   ],
   "source": [
    "#2.04\n",
    "c= [[10,20]]\n",
    "c= np.array(c)\n",
    "c"
   ]
  },
  {
   "cell_type": "code",
   "execution_count": 22,
   "metadata": {},
   "outputs": [
    {
     "data": {
      "text/plain": [
       "array([[ 70, 110]])"
      ]
     },
     "execution_count": 22,
     "metadata": {},
     "output_type": "execute_result"
    }
   ],
   "source": [
    "c@A"
   ]
  },
  {
   "cell_type": "code",
   "execution_count": 23,
   "metadata": {},
   "outputs": [
    {
     "name": "stdout",
     "output_type": "stream",
     "text": [
      "\n",
      "x = \n",
      "[[1.25]\n",
      " [3.75]]\n",
      "\n"
     ]
    },
    {
     "data": {
      "text/plain": [
       "array([[ True],\n",
       "       [ True]])"
      ]
     },
     "execution_count": 23,
     "metadata": {},
     "output_type": "execute_result"
    }
   ],
   "source": [
    "#2.07\n",
    "x = np.linalg.solve(A, b)  # 直接得出解矩陣x\n",
    "\n",
    "print(\n",
    "f'''\n",
    "x = \n",
    "{x}\n",
    "''')\n",
    "np.isclose(A @ x, b)  # 驗算(A @ x == B)"
   ]
  },
  {
   "cell_type": "code",
   "execution_count": 24,
   "metadata": {},
   "outputs": [
    {
     "data": {
      "text/plain": [
       "array([6.+0.j, 4.+0.j])"
      ]
     },
     "execution_count": 24,
     "metadata": {},
     "output_type": "execute_result"
    }
   ],
   "source": [
    "#2.06\n",
    "import scipy.linalg\n",
    "λ, Q= scipy.linalg.eig(A)\n",
    "λ"
   ]
  },
  {
   "cell_type": "code",
   "execution_count": 25,
   "metadata": {},
   "outputs": [
    {
     "data": {
      "text/plain": [
       "array([[ 0.70710678, -0.70710678],\n",
       "       [ 0.70710678,  0.70710678]])"
      ]
     },
     "execution_count": 25,
     "metadata": {},
     "output_type": "execute_result"
    }
   ],
   "source": [
    "Q"
   ]
  },
  {
   "cell_type": "code",
   "execution_count": 26,
   "metadata": {},
   "outputs": [
    {
     "data": {
      "text/plain": [
       "<StemContainer object of 3 artists>"
      ]
     },
     "execution_count": 26,
     "metadata": {},
     "output_type": "execute_result"
    },
    {
     "data": {
      "image/png": "[encoded data removed]",
      "text/plain": [
       "<Figure size 432x288 with 1 Axes>"
      ]
     },
     "metadata": {
      "needs_background": "light"
     },
     "output_type": "display_data"
    }
   ],
   "source": [
    "#3.01\n",
    "import scipy.stats as stats\n",
    "import matplotlib.pyplot as plt\n",
    "import numpy as np\n",
    "\n",
    "x = np.linspace(stats.norm.ppf(0.01), stats.norm.ppf(0.99), 100)\n",
    "# calculate PDF\n",
    "y = stats.norm.pdf(x)\n",
    "# draw a plot\n",
    "plt.stem(x, y, linefmt = 'k--', markerfmt = 'ko', basefmt = \" \")"
   ]
  },
  {
   "cell_type": "code",
   "execution_count": 27,
   "metadata": {},
   "outputs": [
    {
     "data": {
      "text/latex": [
       "$\\displaystyle \\operatorname{erf}{\\left(\\sqrt{2} \\right)}$"
      ],
      "text/plain": [
       "erf(sqrt(2))"
      ]
     },
     "execution_count": 27,
     "metadata": {},
     "output_type": "execute_result"
    }
   ],
   "source": [
    "import math\n",
    "from sympy import * \n",
    "x = symbols('x')\n",
    "integrate(exp(-(x**2/2))/sqrt(2*pi), (x, -2, 2))"
   ]
  },
  {
   "cell_type": "code",
   "execution_count": 28,
   "metadata": {},
   "outputs": [
    {
     "data": {
      "text/plain": [
       "<StemContainer object of 3 artists>"
      ]
     },
     "execution_count": 28,
     "metadata": {},
     "output_type": "execute_result"
    },
    {
     "data": {
      "image/png": "[encoded data removed]",
      "text/plain": [
       "<Figure size 432x288 with 1 Axes>"
      ]
     },
     "metadata": {
      "needs_background": "light"
     },
     "output_type": "display_data"
    }
   ],
   "source": [
    "#3.02\n",
    "import scipy.stats as stats\n",
    "import matplotlib.pyplot as plt\n",
    "import numpy as np\n",
    "\n",
    "x = np.linspace(stats.norm.ppf(0.01), stats.norm.ppf(0.99), 100)\n",
    "# calculate CDF\n",
    "y = stats.norm.cdf(x)\n",
    "# draw a plot\n",
    "plt.stem(x, y, linefmt = 'k--', markerfmt = 'ko', basefmt = \" \")"
   ]
  },
  {
   "cell_type": "code",
   "execution_count": 29,
   "metadata": {},
   "outputs": [
    {
     "data": {
      "text/latex": [
       "$\\displaystyle \\frac{\\operatorname{erf}{\\left(\\frac{\\sqrt{2} t}{2} \\right)}}{2} + \\frac{1}{2}$"
      ],
      "text/plain": [
       "erf(sqrt(2)*t/2)/2 + 1/2"
      ]
     },
     "execution_count": 29,
     "metadata": {},
     "output_type": "execute_result"
    }
   ],
   "source": [
    "import math\n",
    "from sympy import * \n",
    "x = symbols('x')\n",
    "t = symbols('t')\n",
    "integrate(exp(-(x**2/2))/sqrt(2*pi), (x, -oo, t))"
   ]
  },
  {
   "cell_type": "code",
   "execution_count": 30,
   "metadata": {},
   "outputs": [
    {
     "name": "stdout",
     "output_type": "stream",
     "text": [
      "meam= 0.0\n",
      "var= 1.0\n",
      "skew= 0.0\n",
      "kurt= 0.0\n"
     ]
    }
   ],
   "source": [
    "#3.03、3.04、3.05、3.06\n",
    "import scipy\n",
    "mean, var, skew, kurt = scipy.stats.norm.stats(moments = 'mvsk')\n",
    "print('meam=', mean)\n",
    "print('var=', var)\n",
    "print('skew=', skew)\n",
    "print('kurt=', kurt)"
   ]
  },
  {
   "cell_type": "code",
   "execution_count": 31,
   "metadata": {},
   "outputs": [
    {
     "name": "stdout",
     "output_type": "stream",
     "text": [
      "entropy= 0.0\n"
     ]
    }
   ],
   "source": [
    "#3.07\n",
    "entropy = scipy.stats.norm.stats(moments = 's')\n",
    "print('entropy=', entropy)"
   ]
  },
  {
   "cell_type": "code",
   "execution_count": 32,
   "metadata": {},
   "outputs": [
    {
     "data": {
      "image/png": "[encoded data removed]",
      "text/plain": [
       "<Figure size 432x288 with 1 Axes>"
      ]
     },
     "metadata": {
      "needs_background": "light"
     },
     "output_type": "display_data"
    }
   ],
   "source": [
    "#3.08、3.09、3.10\n",
    "from scipy.stats import norm\n",
    "import numpy as np\n",
    "import matplotlib.pyplot as plt\n",
    "\n",
    "fig, ax = plt.subplots(1, 1)\n",
    "x = np.linspace(norm.ppf(0.01), norm.ppf(0.99), 1000)\n",
    "ax.plot(x, norm.pdf(x), 'r-', lw=5, alpha=0.6, label='norm pdf')\n",
    "rv = norm()\n",
    "ax.plot(x, rv.pdf(x), 'k-', lw=2, label='frozen pdf')\n",
    "r = norm.rvs(size=1000)\n",
    "ax.hist(r, density=True, histtype='stepfilled', alpha=0.2)\n",
    "ax.legend(loc='best', frameon=False)\n",
    "plt.show()"
   ]
  },
  {
   "cell_type": "code",
   "execution_count": 33,
   "metadata": {},
   "outputs": [
    {
     "data": {
      "text/plain": [
       "(0.0, 1.8075763515133112)"
      ]
     },
     "execution_count": 33,
     "metadata": {},
     "output_type": "execute_result"
    }
   ],
   "source": [
    "np.mean(x),np.var(x)"
   ]
  }
 ],
 "metadata": {
  "kernelspec": {
   "display_name": "Python 3",
   "language": "python",
   "name": "python3"
  },
  "language_info": {
   "codemirror_mode": {
    "name": "ipython",
    "version": 3
   },
   "file_extension": ".py",
   "mimetype": "text/x-python",
   "name": "python",
   "nbconvert_exporter": "python",
   "pygments_lexer": "ipython3",
   "version": "3.8.5"
  }
 },
 "nbformat": 4,
 "nbformat_minor": 4
}
